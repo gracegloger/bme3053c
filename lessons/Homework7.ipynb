{
  "nbformat": 4,
  "nbformat_minor": 0,
  "metadata": {
    "colab": {
      "provenance": [],
      "authorship_tag": "ABX9TyMQxwEzkwtRbtxVObGuBwqj",
      "include_colab_link": true
    },
    "kernelspec": {
      "name": "python3",
      "display_name": "Python 3"
    },
    "language_info": {
      "name": "python"
    }
  },
  "cells": [
    {
      "cell_type": "markdown",
      "metadata": {
        "id": "view-in-github",
        "colab_type": "text"
      },
      "source": [
        "<a href=\"https://colab.research.google.com/github/gracegloger/bme3053c/blob/main/lessons/Homework7.ipynb\" target=\"_parent\"><img src=\"https://colab.research.google.com/assets/colab-badge.svg\" alt=\"Open In Colab\"/></a>"
      ]
    },
    {
      "cell_type": "markdown",
      "source": [
        "BME3053c - Homework 7 - Grace Gloger"
      ],
      "metadata": {
        "id": "UrPVTv_KF8MK"
      }
    },
    {
      "cell_type": "code",
      "source": [
        "import numpy as np\n",
        "import matplotlib.pyplot as plt\n",
        "from scipy.fftpack import fft, ifft\n",
        "from scipy.signal import find_peaks\n"
      ],
      "metadata": {
        "id": "OnnoukISGB-F"
      },
      "execution_count": 1,
      "outputs": []
    },
    {
      "cell_type": "code",
      "source": [
        "def generate_ecg_data(duration, sampling_rate=250):\n",
        "    def generate_ecg_pulse(duration, sampling_rate):\n",
        "        t = np.linspace(0, duration, int(duration * sampling_rate), endpoint=False)\n",
        "        # P wave\n",
        "        p_wave = 0.15 * np.sin(2 * np.pi * 1.5 * t) * np.exp(-((t - 0.1) ** 2) / 0.005)\n",
        "        # QRS complex\n",
        "        qrs_complex = np.zeros_like(t)\n",
        "        qrs_complex[(t > 0.2) & (t < 0.25)] = -0.3\n",
        "        qrs_complex[(t > 0.25) & (t < 0.3)] = 1.0\n",
        "        qrs_complex[(t > 0.3) & (t < 0.35)] = -0.2\n",
        "        # T wave\n",
        "        t_wave = 0.3 * np.sin(2 * np.pi * 0.75 * (t - 0.45)) * np.exp(-((t - 0.45) ** 2) / 0.015)\n",
        "        # Combine all components\n",
        "        pulse = p_wave + qrs_complex + t_wave\n",
        "        # Add high-frequency noise to the pulse\n",
        "        high_freq_noise = 0.05 * np.sin(2 * np.pi * 50 * t)\n",
        "        pulse += high_freq_noise\n",
        "        return pulse\n",
        "\n",
        "\n",
        "    # Generate a single ECG pulse\n",
        "    single_pulse = generate_ecg_pulse(0.8, sampling_rate)\n",
        "\n",
        "\n",
        "    # Repeat the pulse to create a longer ECG signal\n",
        "    num_pulses = int(duration / 0.8)\n",
        "    ecg_data = np.tile(single_pulse, num_pulses)\n",
        "\n",
        "\n",
        "    # Add more noise to make it more realistic\n",
        "    noise = np.random.normal(0, 0.05, len(ecg_data))  # Increased noise amplitude\n",
        "    ecg_data += noise\n",
        "\n",
        "\n",
        "    # Add baseline wander\n",
        "    t = np.linspace(0, duration, len(ecg_data), endpoint=False)\n",
        "    baseline_wander = 0.1 * np.sin(2 * np.pi * 0.1 * t)\n",
        "    ecg_data += baseline_wander\n",
        "\n",
        "\n",
        "    # Add power line interference\n",
        "    power_line_interference = 0.05 * np.sin(2 * np.pi * 60 * t)  # 60 Hz interference\n",
        "    ecg_data += power_line_interference\n",
        "\n",
        "\n",
        "    # Ensure the length of ecg_data matches the desired duration\n",
        "    ecg_data = ecg_data[:int(duration * sampling_rate)]\n",
        "\n",
        "\n",
        "    return ecg_data\n",
        "\n",
        "\n",
        "ecg_data = generate_ecg_data(10, 250)\n",
        "def generate_ecg_data(duration, sampling_rate=250):\n",
        "    def generate_ecg_pulse(duration, sampling_rate):\n",
        "        t = np.linspace(0, duration, int(duration * sampling_rate), endpoint=False)\n",
        "        # P wave\n",
        "        p_wave = 0.15 * np.sin(2 * np.pi * 1.5 * t) * np.exp(-((t - 0.1) ** 2) / 0.005)\n",
        "        # QRS complex\n",
        "        qrs_complex = np.zeros_like(t)\n",
        "        qrs_complex[(t > 0.2) & (t < 0.25)] = -0.3\n",
        "        qrs_complex[(t > 0.25) & (t < 0.3)] = 1.0\n",
        "        qrs_complex[(t > 0.3) & (t < 0.35)] = -0.2\n",
        "        # T wave\n",
        "        t_wave = 0.3 * np.sin(2 * np.pi * 0.75 * (t - 0.45)) * np.exp(-((t - 0.45) ** 2) / 0.015)\n",
        "        # Combine all components\n",
        "        pulse = p_wave + qrs_complex + t_wave\n",
        "        # Add high-frequency noise to the pulse\n",
        "        high_freq_noise = 0.05 * np.sin(2 * np.pi * 50 * t)\n",
        "        pulse += high_freq_noise\n",
        "        return pulse\n",
        "\n",
        "    # Generate a single ECG pulse\n",
        "    single_pulse = generate_ecg_pulse(0.8, sampling_rate)\n",
        "\n",
        "    # Repeat the pulse to create a longer ECG signal\n",
        "    num_pulses = int(duration / 0.8)\n",
        "    ecg_data = np.tile(single_pulse, num_pulses)\n",
        "\n",
        "    # Add more noise to make it more realistic\n",
        "    noise = np.random.normal(0, 0.05, len(ecg_data))  # Increased noise amplitude\n",
        "    ecg_data += noise\n",
        "\n",
        "    # Add baseline wander\n",
        "    t = np.linspace(0, duration, len(ecg_data), endpoint=False)\n",
        "    baseline_wander = 0.1 * np.sin(2 * np.pi * 0.1 * t)\n",
        "    ecg_data += baseline_wander\n",
        "\n",
        "    # Add power line interference\n",
        "    power_line_interference = 0.05 * np.sin(2 * np.pi * 60 * t)  # 60 Hz interference\n",
        "    ecg_data += power_line_interference\n",
        "\n",
        "    # Ensure the length of ecg_data matches the desired duration\n",
        "    ecg_data = ecg_data[:int(duration * sampling_rate)]\n",
        "\n",
        "    return ecg_data\n",
        "\n",
        "ecg_data = generate_ecg_data(10, 250)\n"
      ],
      "metadata": {
        "id": "7LEMSW-tGGFl"
      },
      "execution_count": 2,
      "outputs": []
    },
    {
      "cell_type": "code",
      "source": [
        "#Part 1: Visualizing the ECG Signal\n"
      ],
      "metadata": {
        "id": "rfcZ_yPBGr7X"
      },
      "execution_count": null,
      "outputs": []
    }
  ]
}